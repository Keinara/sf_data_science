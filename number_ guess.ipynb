{
 "cells": [
  {
   "cell_type": "code",
   "execution_count": 31,
   "metadata": {},
   "outputs": [
    {
     "data": {
      "text/plain": [
       "6"
      ]
     },
     "execution_count": 31,
     "metadata": {},
     "output_type": "execute_result"
    }
   ],
   "source": [
    "import numpy as np\n",
    "\n",
    "def game_core_v3(number: int = 1) -> int:\n",
    "    \"\"\"\n",
    "    Args:\n",
    "        number (int, optional): Загаданное число. Defaults to 1.\n",
    "\n",
    "    Returns:\n",
    "        int: Число попыток\n",
    "    \"\"\"\n",
    "    # Определяем переменную для записи кол-ва попыток\n",
    "    count = 0\n",
    "    max_number=101\n",
    "    min_number=0\n",
    "    # Описываем цикл в котором происходит изначальная замена начальных переменных\n",
    "    while True:\n",
    "      count += 1\n",
    "      predict=(max_number+min_number)//2 \n",
    "      if predict==number:\n",
    "        break\n",
    "      elif predict < number:\n",
    "        min_number=predict\n",
    "      else:\n",
    "        max_number=predict\n",
    "\n",
    "    return count\n",
    "# RUN\n",
    "game_core_v3()"
   ]
  }
 ],
 "metadata": {
  "kernelspec": {
   "display_name": "Python 3",
   "language": "python",
   "name": "python3"
  },
  "language_info": {
   "codemirror_mode": {
    "name": "ipython",
    "version": 3
   },
   "file_extension": ".py",
   "mimetype": "text/x-python",
   "name": "python",
   "nbconvert_exporter": "python",
   "pygments_lexer": "ipython3",
   "version": "3.11.5"
  }
 },
 "nbformat": 4,
 "nbformat_minor": 2
}
